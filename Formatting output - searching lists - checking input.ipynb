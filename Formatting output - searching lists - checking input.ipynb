{
 "cells": [
  {
   "cell_type": "markdown",
   "metadata": {},
   "source": [
    "# In-Class Samples from 2/6\n",
    "Note: copy and paste the code into PyCharm or editor of your choice"
   ]
  },
  {
   "cell_type": "code",
   "execution_count": null,
   "metadata": {},
   "outputs": [],
   "source": [
    "#creating two LISTS, note the BRACKETS.  \n",
    "#If I had used parentheses, it would be a tuple, \n",
    "#    meaning I could not add values - fix would be fixed\n",
    "names = [\"Bob\", \"Sue\", \"Moe\"]\n",
    "age = [\"42\", \"32\", \"56\"]\n",
    "\n",
    "#creating a table that contains our values\n",
    "print(\"Names\\t\\tAge\")\n",
    "print(\"---------------------\")\n",
    "position = 0\n",
    "for n in names:\n",
    "    print(names[position] , '\\t\\t', age[position])\n",
    "    position += 1\n",
    "\n",
    "names = [\"Bob\", \"Sue\", \"Moe\"]\n",
    "names.append(\"Larry\")\n",
    "print(names)\n",
    "\n",
    "user_input = input(\"Please provide a name: \")\n",
    "#Note that your input can still be interpretted as an array\n",
    "#- this means you can access your input as an element of an array\n",
    "#print(user_input[0])\n",
    "\n",
    "#this if statement is the LONG way of finding out if a value is in an array\n",
    "#Note - this only works if you know exactly how many elements to check \n",
    "if (user_input == names[0]):\n",
    "    print(\"His name is Bob!\")\n",
    "elif(user_input == names[1]) \\\n",
    "        or (user_input == names[2]):\n",
    "    print(\"That's a \\ngood name!\")\n",
    "else:\n",
    "    print(\"Weird name\")\n",
    "\n",
    "#this if statement is the quick, python approved way of searching for a value in an array\n",
    "if user_input in names:\n",
    "    print(\"Wow, it did it by itself!\")"
   ]
  },
  {
   "cell_type": "code",
   "execution_count": null,
   "metadata": {},
   "outputs": [],
   "source": [
    "#this sample is a user input checker for a calculator\n",
    "#the program will get a number from the user as long as \n",
    "#the user enters 'y' when prompted\n",
    "user_number = 0\n",
    "answer = 'y'\n",
    "total = 0\n",
    "\n",
    "while(answer == 'y') or (answer == 'Y'):\n",
    "    user_number = int(input(\"Enter a number: \"))\n",
    "    answer = str(input(\"Do you want to continue? \"))\n",
    "    total += user_number\n",
    "\n",
    "print(\"Your final total was: \", total)"
   ]
  }
 ],
 "metadata": {
  "kernelspec": {
   "display_name": "Python 3",
   "language": "python",
   "name": "python3"
  },
  "language_info": {
   "codemirror_mode": {
    "name": "ipython",
    "version": 3
   },
   "file_extension": ".py",
   "mimetype": "text/x-python",
   "name": "python",
   "nbconvert_exporter": "python",
   "pygments_lexer": "ipython3",
   "version": "3.7.2"
  }
 },
 "nbformat": 4,
 "nbformat_minor": 2
}
