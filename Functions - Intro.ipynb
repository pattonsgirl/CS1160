{
 "cells": [
  {
   "cell_type": "markdown",
   "metadata": {},
   "source": [
    "# In-Class Samples from 2/6\n",
    "Note: To play, copy and paste into PyCharm or editor of your choice"
   ]
  },
  {
   "cell_type": "code",
   "execution_count": null,
   "metadata": {},
   "outputs": [],
   "source": [
    "#Just adding numbers\n",
    "\n",
    "def add_only(num1, num2):\n",
    "    total = num1 + num2\n",
    "    #print(\"Total is: \", total)\n",
    "    return total\n",
    "\n",
    "number1 = int(input(\"Enter first number: \"))\n",
    "number2 = int(input(\"Enter second number: \"))\n",
    "total1 = add_only(number1, number2)\n",
    "print(total1)\n",
    "\n",
    "number3 = int(input(\"Enter third number: \"))\n",
    "number4 = int(input(\"Enter fourth number: \"))\n",
    "add_only(number3, number4)\n",
    "total2 = add_only(number3, number4)\n",
    "print(total2)"
   ]
  },
  {
   "cell_type": "code",
   "execution_count": null,
   "metadata": {},
   "outputs": [],
   "source": [
    "#our fist void function\n",
    "#Constants go up here (outside of everything)\n",
    "\n",
    "def addition_calc(user_number, answer):\n",
    "    total = 0\n",
    "    while(answer == 'y') or (answer == 'Y'):\n",
    "        user_number = int(input(\"Enter a number: \"))\n",
    "        answer = str(input(\"Do you want to continue? \"))\n",
    "        total += user_number\n",
    "    return total\n",
    "\n",
    "user_number1 = 0\n",
    "answer = 'y'\n",
    "total = addition_calc(user_number1, answer)\n",
    "print(\"Your final total was: \", total)"
   ]
  }
 ],
 "metadata": {
  "kernelspec": {
   "display_name": "Python 3",
   "language": "python",
   "name": "python3"
  },
  "language_info": {
   "codemirror_mode": {
    "name": "ipython",
    "version": 3
   },
   "file_extension": ".py",
   "mimetype": "text/x-python",
   "name": "python",
   "nbconvert_exporter": "python",
   "pygments_lexer": "ipython3",
   "version": "3.7.2"
  }
 },
 "nbformat": 4,
 "nbformat_minor": 2
}
