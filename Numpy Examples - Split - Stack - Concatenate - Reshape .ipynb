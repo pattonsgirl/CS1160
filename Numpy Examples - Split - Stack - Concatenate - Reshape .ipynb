{
 "cells": [
  {
   "cell_type": "code",
   "execution_count": 2,
   "metadata": {},
   "outputs": [],
   "source": [
    "import numpy as np"
   ]
  },
  {
   "cell_type": "code",
   "execution_count": 3,
   "metadata": {},
   "outputs": [
    {
     "name": "stdout",
     "output_type": "stream",
     "text": [
      "[[78 43 90]\n",
      " [54  3  7]]\n",
      "Vertically stacked \n",
      " [[ 4  7  9]\n",
      " [78 43 90]\n",
      " [54  3  7]]\n",
      "Did this wrong!\n",
      " Splitting things up: \n",
      " [array([[ 4,  7,  9],\n",
      "       [78, 43, 90]]), array([[54,  3,  7]])]\n",
      "VERTICALLY Splitting things up: \n",
      " [[ 4  7  9]\n",
      " [78 43 90]] \n",
      "\n",
      " [[54  3  7]]\n"
     ]
    }
   ],
   "source": [
    "x = np.array([4, 7, 9])\n",
    "y = np.array([78, 43, 90])\n",
    "z = [54, 3, 7]\n",
    "\n",
    "grid = np.array([y, z])\n",
    "print(grid)\n",
    "\n",
    "vert_stack = np.vstack([x, grid])\n",
    "print(\"Vertically stacked \\n\", vert_stack)\n",
    "\n",
    "#splitting things up\n",
    "split_array_row2 = np.split(vert_stack, [2])\n",
    "print(\"Did this wrong!\\n Splitting things up: \\n\", split_array_row2)\n",
    "\n",
    "#vertically splitting things up\n",
    "vert_split_array_1, vert_split_array_2  = np.vsplit(vert_stack, [2])\n",
    "print(\"VERTICALLY Splitting things up: \\n\", vert_split_array_1, \"\\n\\n\", vert_split_array_2)\n",
    "\n",
    "#horizontally splitting things up\\n\",\n",
    "horz_split_array_1, horz_split_array_2  = np.hsplit(vert_stack, [2])"
   ]
  },
  {
   "cell_type": "code",
   "execution_count": 53,
   "metadata": {},
   "outputs": [
    {
     "name": "stdout",
     "output_type": "stream",
     "text": [
      "[[78 43 90]\n",
      " [54  3  7]]\n",
      "Vertically stacked \n",
      " [[ 4  7  9]\n",
      " [78 43 90]\n",
      " [54  3  7]]\n",
      "Vertically stacked \n",
      " [[78 43 90  4]\n",
      " [54  3  7  6]]\n"
     ]
    }
   ],
   "source": [
    "x = np.array([4, 7, 9])\n",
    "y = np.array([78, 43, 90])\n",
    "z = [54, 3, 7]\n",
    "grid = np.array([y, z])\n",
    "print(grid)\n",
    "\n",
    "vert_stack = np.vstack([x, grid])\n",
    "print(\"Vertically stacked \\n\", vert_stack)\n",
    "\n",
    "right = np.array([[4], [6]])\n",
    "horz_stack = np.hstack([grid, right])\n",
    "print(\"Vertically stacked \\n\", horz_stack)"
   ]
  },
  {
   "cell_type": "code",
   "execution_count": 45,
   "metadata": {},
   "outputs": [
    {
     "name": "stdout",
     "output_type": "stream",
     "text": [
      "Big \n",
      " [ 4  7  9 78 43 90 54  3  7]\n",
      "2D \n",
      " [[ 4  7  9]\n",
      " [78 43 90]]\n",
      "2D by row \n",
      " [[ 4  7  9]\n",
      " [78 43 90]]\n",
      "2D by column \n",
      " [[ 4  7  9 78 43 90]]\n",
      "3D Array maybe? \n",
      " [[[ 4  7  9]\n",
      "  [78 43 90]\n",
      "  [54  3  7]]\n",
      "\n",
      " [[ 4  7  9]\n",
      "  [78 43 90]\n",
      "  [54  3  7]]]\n"
     ]
    }
   ],
   "source": [
    "x = np.array([4, 7, 9])\n",
    "y = np.array([78, 43, 90])\n",
    "z = [54, 3, 7]\n",
    "\n",
    "big_cat = np.concatenate([x, y, z])\n",
    "print(\"Big \\n\",big_cat)\n",
    "\n",
    "twod_cat = np.concatenate([[x, y]])\n",
    "print(\"2D \\n\", twod_cat)\n",
    "\n",
    "twod_row_cat = np.concatenate([[x], [y]], axis=0)\n",
    "print(\"2D by row \\n\", twod_row_cat)\n",
    "\n",
    "twod_col_cat = np.concatenate([[x], [y]], axis=1)\n",
    "print(\"2D by column \\n\", twod_col_cat)\n",
    "\n",
    "threed_cat = np.concatenate([[[x, y, z],[x, y, z]]])\n",
    "print(\"3D Array maybe? \\n\",threed_cat)"
   ]
  },
  {
   "cell_type": "code",
   "execution_count": 22,
   "metadata": {},
   "outputs": [
    {
     "name": "stdout",
     "output_type": "stream",
     "text": [
      "[[1 4 6]\n",
      " [3 5 8]]\n",
      "[[[1 4 6]]\n",
      "\n",
      " [[3 5 8]]]\n"
     ]
    }
   ],
   "source": [
    "#reshaping and newaxis\n",
    "x = np.array([1, 4, 6, 3, 5, 8])\n",
    "y = x.reshape((2,3))\n",
    "print(y)\n",
    "\n",
    "z = y[:, np.newaxis]\n",
    "print(z)\n"
   ]
  }
 ],
 "metadata": {
  "kernelspec": {
   "display_name": "Python 3",
   "language": "python",
   "name": "python3"
  },
  "language_info": {
   "codemirror_mode": {
    "name": "ipython",
    "version": 3
   },
   "file_extension": ".py",
   "mimetype": "text/x-python",
   "name": "python",
   "nbconvert_exporter": "python",
   "pygments_lexer": "ipython3",
   "version": "3.7.2"
  }
 },
 "nbformat": 4,
 "nbformat_minor": 2
}
